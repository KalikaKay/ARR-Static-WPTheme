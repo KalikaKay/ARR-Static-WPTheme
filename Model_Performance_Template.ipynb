{
  "nbformat": 4,
  "nbformat_minor": 0,
  "metadata": {
    "colab": {
      "name": "Model Performance Template.ipynb",
      "provenance": [],
      "collapsed_sections": [],
      "authorship_tag": "ABX9TyNnFczEWN05S3wXI2Xy2RDx"
    },
    "kernelspec": {
      "name": "python3",
      "display_name": "Python 3"
    }
  },
  "cells": [
    {
      "cell_type": "markdown",
      "metadata": {
        "id": "FFxNb7r-w_Gi"
      },
      "source": [
        "* Each record contain 9 numerical attributes. \n",
        "* The 10th column is the target column. \n",
        "* There are two classes to predict, we will call them positive and negative."
      ]
    },
    {
      "cell_type": "markdown",
      "metadata": {
        "id": "QCBomSbEkxve"
      },
      "source": [
        "# Import necessary packages\n",
        "For this exercise we need\n",
        " * pandas - data visualizer \n",
        " * train_test_split - regression \n",
        " * LogisticRegression - regression \n",
        " * pyplot from matplotlib - daya visualizer\n",
        " * KNeighborsClassifier - classifier \n",
        " * LogisticRegressionClassifier - classifier\n",
        " * RandomForestClassifier - classifier\n",
        " * DummyClassifier - classifier"
      ]
    },
    {
      "cell_type": "code",
      "metadata": {
        "id": "fsAa7WZklTRw"
      },
      "source": [
        "#Setup dataframe and visualizations\n",
        "import math\n",
        "import pandas as pd\n",
        "import numpy as np\n",
        "from scipy.stats.mstats import winsorize\n",
        "import seaborn as sns\n",
        "from scipy import stats\n",
        "import matplotlib.pyplot as plt\n",
        "\n",
        "\n",
        "#Figure set up for dark theme:\n",
        "plt.style.use(['dark_background'])\n",
        "sns.set()\n",
        "\n",
        "#suppress warnings\n",
        "import warnings\n",
        "warnings.filterwarnings('ignore')"
      ],
      "execution_count": null,
      "outputs": []
    },
    {
      "cell_type": "code",
      "metadata": {
        "id": "Ra4YLrwVlkuf"
      },
      "source": [
        "from sklearn.model_selection import train_test_split\n",
        "from sklearn.linear_model import LogisticRegression"
      ],
      "execution_count": null,
      "outputs": []
    },
    {
      "cell_type": "code",
      "metadata": {
        "id": "bxNXrpGrBjgj"
      },
      "source": [
        "from sklearn.dummy import DummyClassifier\n",
        "from sklearn.metrics import confusion_matrix\n",
        "from sklearn.neighbors import KNeighborsClassifier\n",
        "from sklearn.ensemble import RandomForestClassifier\n",
        "from sklearn.metrics import accuracy_score, precision_score, recall_score, f1_score, fbeta_score, classification_report"
      ],
      "execution_count": null,
      "outputs": []
    },
    {
      "cell_type": "markdown",
      "metadata": {
        "id": "09FD3EZ4lqj-"
      },
      "source": [
        "# Load and prepare the dataset\n",
        "* Load the training data into a dataframe named df_train_data \n",
        "* Create binary classification problem - rename some class labels\n",
        "* Create a dataframe of 9 features named X, drop column 9.\n",
        "* Create a data frame of labels named y, select only column 9.\n",
        "* Split the data into a training set and a test set.\n"
      ]
    },
    {
      "cell_type": "code",
      "metadata": {
        "id": "u0YmAA-n5-fr"
      },
      "source": [
        "#Remove Following if Using SQL Alchemy\n",
        "url ='http://archive.ics.uci.edu/ml/machine-learning-databases/statlog/shuttle/shuttle.tst'\n",
        "df_train_data = pd.read_csv(url, header=None, sep=' ')"
      ],
      "execution_count": null,
      "outputs": []
    },
    {
      "cell_type": "code",
      "metadata": {
        "id": "CcAG-3A3AZGR",
        "outputId": "9aaca0f7-d6c4-412e-c67a-384364b36dff",
        "colab": {
          "base_uri": "https://localhost:8080/",
          "height": 118
        }
      },
      "source": [
        "#Get a variable of interest\n",
        "df_train_data.loc[df_train_data[9] != 4, 9] = 0\n",
        "df_train_data[9].head()"
      ],
      "execution_count": null,
      "outputs": [
        {
          "output_type": "execute_result",
          "data": {
            "text/plain": [
              "0    4\n",
              "1    4\n",
              "2    0\n",
              "3    4\n",
              "4    0\n",
              "Name: 9, dtype: int64"
            ]
          },
          "metadata": {
            "tags": []
          },
          "execution_count": 19
        }
      ]
    },
    {
      "cell_type": "code",
      "metadata": {
        "id": "agrCm8bU8SkQ"
      },
      "source": [
        "#Create a boolean - yes/no column. We'lll let 4 be our \"off\" classifier. Everything else is our \"on\" classifier.\n",
        "df_train_data.loc[df_train_data[9] == 4, 9] = 1\n",
        "\n",
        "#columns the dataset should not contain.\n",
        "drop_cols = [9]\n",
        "#variable of interest\n",
        "var = 9\n",
        "\n",
        "X = df_train_data.drop(axis=1, columns=drop_cols)\n",
        "y = df_train_data[var]"
      ],
      "execution_count": null,
      "outputs": []
    },
    {
      "cell_type": "code",
      "metadata": {
        "id": "yXLpfWvWCiSd",
        "outputId": "2693ce37-8a17-442b-c8f4-a1388a0f8781",
        "colab": {
          "base_uri": "https://localhost:8080/",
          "height": 34
        }
      },
      "source": [
        "#Size of the test set.\n",
        "SIZE = 0.2\n",
        "X_train, X_test, y_train, y_test = train_test_split(X, y, test_size=SIZE)\n",
        "print('There are {:d} training samples and {:d} test samples'.format(X_train.shape[0], X_test.shape[0]))"
      ],
      "execution_count": null,
      "outputs": [
        {
          "output_type": "stream",
          "text": [
            "There are 11600 training samples and 2900 test samples\n"
          ],
          "name": "stdout"
        }
      ]
    },
    {
      "cell_type": "markdown",
      "metadata": {
        "id": "g06uXuStl7p7"
      },
      "source": [
        "# Create the model\n",
        "* Instantiate a Logistic Regression classifier with a lbfgs solver.\n",
        "* Fit the classifier to the data."
      ]
    },
    {
      "cell_type": "code",
      "metadata": {
        "id": "6EoLbx0VCmGH",
        "outputId": "e3deeff0-c4f0-425d-947e-8e507b687a73",
        "colab": {
          "base_uri": "https://localhost:8080/",
          "height": 101
        }
      },
      "source": [
        "lr = LogisticRegression(solver='lbfgs', penalty='none', max_iter=1000)\n",
        "lr.fit(X_train, y_train)"
      ],
      "execution_count": null,
      "outputs": [
        {
          "output_type": "execute_result",
          "data": {
            "text/plain": [
              "LogisticRegression(C=1.0, class_weight=None, dual=False, fit_intercept=True,\n",
              "                   intercept_scaling=1, l1_ratio=None, max_iter=1000,\n",
              "                   multi_class='auto', n_jobs=None, penalty='none',\n",
              "                   random_state=None, solver='lbfgs', tol=0.0001, verbose=0,\n",
              "                   warm_start=False)"
            ]
          },
          "metadata": {
            "tags": []
          },
          "execution_count": 22
        }
      ]
    },
    {
      "cell_type": "markdown",
      "metadata": {
        "id": "SaWnNhyImMeb"
      },
      "source": [
        "# Calculate Accuracy\n",
        "Calculate and print the accuracy of the model on the test data.\n"
      ]
    },
    {
      "cell_type": "code",
      "metadata": {
        "id": "9w-eUxoqVOdz",
        "outputId": "b51cce2f-01b8-45c1-d40c-3a977affdc67",
        "colab": {
          "base_uri": "https://localhost:8080/",
          "height": 50
        }
      },
      "source": [
        "#Increasing the number of iterations did not resolve the issue. \n",
        "lr = LogisticRegression(solver='lbfgs', penalty='none', max_iter=10000, random_state=2)\n",
        "lr.fit(X_train, y_train)\n",
        "\n",
        "test_score = lr.score(X_test, y_test)\n",
        "train_score = lr.score(X_train, y_train)\n",
        "\n",
        "print('Score on training data: ', train_score)\n",
        "print('Score on test data: ', test_score)\n"
      ],
      "execution_count": null,
      "outputs": [
        {
          "output_type": "stream",
          "text": [
            "Score on training data:  0.8248275862068966\n",
            "Score on test data:  0.8289655172413793\n"
          ],
          "name": "stdout"
        }
      ]
    },
    {
      "cell_type": "markdown",
      "metadata": {
        "id": "cKJVKVUemSbV"
      },
      "source": [
        "# Dummy Classifier\n",
        "Use the dummy classifier to calculate the accuracy of a purely random chance.\n",
        "\n",
        "Compare this result to the result of the logistic regression classifier above. What does this result tell you?"
      ]
    },
    {
      "cell_type": "code",
      "metadata": {
        "id": "muK9X6PTBFbB",
        "outputId": "27611abd-fc6d-4a98-d604-5028479b654d",
        "colab": {
          "base_uri": "https://localhost:8080/",
          "height": 34
        }
      },
      "source": [
        "dummy = DummyClassifier(strategy = 'most_frequent')\n",
        "dummy.fit(X_train, y_train)\n",
        "print(\"Dummy: {}, Training: {}, Test {}\".format(dummy.score(X_test, y_test), train_score, test_score))\n",
        "\n",
        "##IT is possible to insert code that will tell me this. I just have to have a good idea of my threshold. "
      ],
      "execution_count": null,
      "outputs": [
        {
          "output_type": "stream",
          "text": [
            "Dummy: 0.8548275862068966, Training: 0.8248275862068966, Test 0.8289655172413793\n"
          ],
          "name": "stdout"
        }
      ]
    },
    {
      "cell_type": "markdown",
      "metadata": {
        "id": "uj6UU29oD6zs"
      },
      "source": [
        "It would appear that my model is doing about as good as a job as a random model."
      ]
    },
    {
      "cell_type": "markdown",
      "metadata": {
        "id": "eXnszI6fmaNs"
      },
      "source": [
        "# Confusion Matrix\n",
        "Print the confusion matrix."
      ]
    },
    {
      "cell_type": "code",
      "metadata": {
        "id": "aZw0jBu-met4",
        "outputId": "b5f7ba98-9703-4c9a-dd03-f369c6699599",
        "colab": {
          "base_uri": "https://localhost:8080/",
          "height": 50
        }
      },
      "source": [
        "predictions = lr.predict(X_test)\n",
        "\n",
        "confusion = confusion_matrix(y_test, predictions, labels=[1,0])\n",
        "print(confusion)"
      ],
      "execution_count": null,
      "outputs": [
        {
          "output_type": "stream",
          "text": [
            "[[  26  395]\n",
            " [ 101 2378]]\n"
          ],
          "name": "stdout"
        }
      ]
    },
    {
      "cell_type": "markdown",
      "metadata": {
        "id": "WskYD5OsmfHT"
      },
      "source": [
        "Plot a nicer confusion matrix (optional)\n",
        "Use the plot_confusion_matrix function from above to plot a nicer looking confusion matrix.\n",
        "\n",
        "Desired behavior: All True Positives are a different color than the falses. (26 should be hot pink and 2378 should be hot pink.)"
      ]
    },
    {
      "cell_type": "code",
      "metadata": {
        "id": "UJbKNUdHmknw",
        "outputId": "7e9e4951-e3e9-41c6-f121-ac0a960543ef",
        "colab": {
          "base_uri": "https://localhost:8080/",
          "height": 1000
        }
      },
      "source": [
        "#!pip install pygal\n",
        "import pygal\n",
        "from IPython.display import display, HTML\n",
        "from pygal.style import NeonStyle\n",
        "\n",
        "base_html = \"\"\"\n",
        "<!DOCTYPE html>\n",
        "<html>\n",
        "  <head>\n",
        "  <script type=\"text/javascript\" src=\"http://kozea.github.com/pygal.js/javascripts/svg.jquery.js\"></script>\n",
        "  <script type=\"text/javascript\" src=\"https://kozea.github.io/pygal.js/2.0.x/pygal-tooltips.min.js\"\"></script>\n",
        "  </head>\n",
        "  <body>\n",
        "    <figure>\n",
        "      {rendered_chart}\n",
        "    </figure>\n",
        "  </body>\n",
        "</html>\n",
        "\"\"\"\n",
        "\n",
        "def galplot(chart):\n",
        "    rendered_chart = chart.render(is_unicode=True)\n",
        "    plot_html = base_html.format(rendered_chart=rendered_chart)\n",
        "    display(HTML(plot_html))\n",
        "def plot_cm(y_true, y_pred):\n",
        "    labels = np.unique(y_true)\n",
        "    cm = confusion_matrix(y_true, y_pred, labels=labels)\n",
        "    dot_chart = pygal.Dot(x_label_rotation=30, interpolate='cubic', style=NeonStyle)\n",
        "    dot_chart.title = 'Confusion Matrix'\n",
        "    dot_chart.x_labels = labels\n",
        "    dot_chart.x_title = \"Predicted - Precision \" + str(precision_score(y_test, predictions)) # Include percision percentage (False Positives) on the legend next to each definition.\n",
        "    dot_chart.y_title = \"Actual - Recall \" + str(recall_score(y_test, predictions)) # Include recall percentage (False Negatives) on the legend next to each definition.\n",
        "    for i in range(len(labels)):\n",
        "        dot_chart.add(labels[i], cm[i,:])\n",
        "    galplot(dot_chart)\n",
        "\n",
        "plot_cm(y_test.astype(str), predictions.astype(str))"
      ],
      "execution_count": null,
      "outputs": [
        {
          "output_type": "display_data",
          "data": {
            "text/html": [
              "\n",
              "<!DOCTYPE html>\n",
              "<html>\n",
              "  <head>\n",
              "  <script type=\"text/javascript\" src=\"http://kozea.github.com/pygal.js/javascripts/svg.jquery.js\"></script>\n",
              "  <script type=\"text/javascript\" src=\"https://kozea.github.io/pygal.js/2.0.x/pygal-tooltips.min.js\"\"></script>\n",
              "  </head>\n",
              "  <body>\n",
              "    <figure>\n",
              "      <?xml version='1.0' encoding='utf-8'?>\n",
              "<svg xmlns:xlink=\"http://www.w3.org/1999/xlink\" xmlns=\"http://www.w3.org/2000/svg\" id=\"chart-3ada2b2f-a225-4dc9-9ab1-50c2c8ed6ca2\" class=\"pygal-chart\" viewBox=\"0 0 800 600\"><!--Generated with pygal 2.4.0 (lxml) ©Kozea 2012-2016 on 2020-10-17--><!--http://pygal.org--><!--http://github.com/Kozea/pygal--><defs><style type=\"text/css\">#chart-3ada2b2f-a225-4dc9-9ab1-50c2c8ed6ca2{-webkit-user-select:none;-webkit-font-smoothing:antialiased;font-family:Consolas,\"Liberation Mono\",Menlo,Courier,monospace}#chart-3ada2b2f-a225-4dc9-9ab1-50c2c8ed6ca2 .title{font-family:Consolas,\"Liberation Mono\",Menlo,Courier,monospace;font-size:16px}#chart-3ada2b2f-a225-4dc9-9ab1-50c2c8ed6ca2 .legends .legend text{font-family:Consolas,\"Liberation Mono\",Menlo,Courier,monospace;font-size:14px}#chart-3ada2b2f-a225-4dc9-9ab1-50c2c8ed6ca2 .axis text{font-family:Consolas,\"Liberation Mono\",Menlo,Courier,monospace;font-size:10px}#chart-3ada2b2f-a225-4dc9-9ab1-50c2c8ed6ca2 .axis text.major{font-family:Consolas,\"Liberation Mono\",Menlo,Courier,monospace;font-size:10px}#chart-3ada2b2f-a225-4dc9-9ab1-50c2c8ed6ca2 .text-overlay text.value{font-family:Consolas,\"Liberation Mono\",Menlo,Courier,monospace;font-size:16px}#chart-3ada2b2f-a225-4dc9-9ab1-50c2c8ed6ca2 .text-overlay text.label{font-family:Consolas,\"Liberation Mono\",Menlo,Courier,monospace;font-size:10px}#chart-3ada2b2f-a225-4dc9-9ab1-50c2c8ed6ca2 .tooltip{font-family:Consolas,\"Liberation Mono\",Menlo,Courier,monospace;font-size:14px}#chart-3ada2b2f-a225-4dc9-9ab1-50c2c8ed6ca2 text.no_data{font-family:Consolas,\"Liberation Mono\",Menlo,Courier,monospace;font-size:64px}\n",
              "#chart-3ada2b2f-a225-4dc9-9ab1-50c2c8ed6ca2{background-color:black}#chart-3ada2b2f-a225-4dc9-9ab1-50c2c8ed6ca2 path,#chart-3ada2b2f-a225-4dc9-9ab1-50c2c8ed6ca2 line,#chart-3ada2b2f-a225-4dc9-9ab1-50c2c8ed6ca2 rect,#chart-3ada2b2f-a225-4dc9-9ab1-50c2c8ed6ca2 circle{-webkit-transition:1s ease-out;-moz-transition:1s ease-out;transition:1s ease-out}#chart-3ada2b2f-a225-4dc9-9ab1-50c2c8ed6ca2 .graph &gt; .background{fill:black}#chart-3ada2b2f-a225-4dc9-9ab1-50c2c8ed6ca2 .plot &gt; .background{fill:#111}#chart-3ada2b2f-a225-4dc9-9ab1-50c2c8ed6ca2 .graph{fill:#999}#chart-3ada2b2f-a225-4dc9-9ab1-50c2c8ed6ca2 text.no_data{fill:#eee}#chart-3ada2b2f-a225-4dc9-9ab1-50c2c8ed6ca2 .title{fill:#eee}#chart-3ada2b2f-a225-4dc9-9ab1-50c2c8ed6ca2 .legends .legend text{fill:#999}#chart-3ada2b2f-a225-4dc9-9ab1-50c2c8ed6ca2 .legends .legend:hover text{fill:#eee}#chart-3ada2b2f-a225-4dc9-9ab1-50c2c8ed6ca2 .axis .line{stroke:#eee}#chart-3ada2b2f-a225-4dc9-9ab1-50c2c8ed6ca2 .axis .guide.line{stroke:#555}#chart-3ada2b2f-a225-4dc9-9ab1-50c2c8ed6ca2 .axis .major.line{stroke:#999}#chart-3ada2b2f-a225-4dc9-9ab1-50c2c8ed6ca2 .axis text.major{fill:#eee}#chart-3ada2b2f-a225-4dc9-9ab1-50c2c8ed6ca2 .axis.y .guides:hover .guide.line,#chart-3ada2b2f-a225-4dc9-9ab1-50c2c8ed6ca2 .line-graph .axis.x .guides:hover .guide.line,#chart-3ada2b2f-a225-4dc9-9ab1-50c2c8ed6ca2 .stackedline-graph .axis.x .guides:hover .guide.line,#chart-3ada2b2f-a225-4dc9-9ab1-50c2c8ed6ca2 .xy-graph .axis.x .guides:hover .guide.line{stroke:#eee}#chart-3ada2b2f-a225-4dc9-9ab1-50c2c8ed6ca2 .axis .guides:hover text{fill:#eee}#chart-3ada2b2f-a225-4dc9-9ab1-50c2c8ed6ca2 .reactive{fill-opacity:.1;stroke-opacity:.8}#chart-3ada2b2f-a225-4dc9-9ab1-50c2c8ed6ca2 .ci{stroke:#999}#chart-3ada2b2f-a225-4dc9-9ab1-50c2c8ed6ca2 .reactive.active,#chart-3ada2b2f-a225-4dc9-9ab1-50c2c8ed6ca2 .active .reactive{fill-opacity:.75;stroke-opacity:.9;stroke-width:4}#chart-3ada2b2f-a225-4dc9-9ab1-50c2c8ed6ca2 .ci .reactive.active{stroke-width:1.5}#chart-3ada2b2f-a225-4dc9-9ab1-50c2c8ed6ca2 .series text{fill:#eee}#chart-3ada2b2f-a225-4dc9-9ab1-50c2c8ed6ca2 .tooltip rect{fill:#111;stroke:#eee;-webkit-transition:opacity 1s ease-out;-moz-transition:opacity 1s ease-out;transition:opacity 1s ease-out}#chart-3ada2b2f-a225-4dc9-9ab1-50c2c8ed6ca2 .tooltip .label{fill:#999}#chart-3ada2b2f-a225-4dc9-9ab1-50c2c8ed6ca2 .tooltip .label{fill:#999}#chart-3ada2b2f-a225-4dc9-9ab1-50c2c8ed6ca2 .tooltip .legend{font-size:.8em;fill:#555}#chart-3ada2b2f-a225-4dc9-9ab1-50c2c8ed6ca2 .tooltip .x_label{font-size:.6em;fill:#eee}#chart-3ada2b2f-a225-4dc9-9ab1-50c2c8ed6ca2 .tooltip .xlink{font-size:.5em;text-decoration:underline}#chart-3ada2b2f-a225-4dc9-9ab1-50c2c8ed6ca2 .tooltip .value{font-size:1.5em}#chart-3ada2b2f-a225-4dc9-9ab1-50c2c8ed6ca2 .bound{font-size:.5em}#chart-3ada2b2f-a225-4dc9-9ab1-50c2c8ed6ca2 .max-value{font-size:.75em;fill:#555}#chart-3ada2b2f-a225-4dc9-9ab1-50c2c8ed6ca2 .map-element{fill:#111;stroke:#555 !important}#chart-3ada2b2f-a225-4dc9-9ab1-50c2c8ed6ca2 .map-element .reactive{fill-opacity:inherit;stroke-opacity:inherit}#chart-3ada2b2f-a225-4dc9-9ab1-50c2c8ed6ca2 .color-0,#chart-3ada2b2f-a225-4dc9-9ab1-50c2c8ed6ca2 .color-0 a:visited{stroke:#ff5995;fill:#ff5995}#chart-3ada2b2f-a225-4dc9-9ab1-50c2c8ed6ca2 .color-1,#chart-3ada2b2f-a225-4dc9-9ab1-50c2c8ed6ca2 .color-1 a:visited{stroke:#b6e354;fill:#b6e354}#chart-3ada2b2f-a225-4dc9-9ab1-50c2c8ed6ca2 .text-overlay .color-0 text{fill:black}#chart-3ada2b2f-a225-4dc9-9ab1-50c2c8ed6ca2 .text-overlay .color-1 text{fill:black}\n",
              "#chart-3ada2b2f-a225-4dc9-9ab1-50c2c8ed6ca2 text.no_data{text-anchor:middle}#chart-3ada2b2f-a225-4dc9-9ab1-50c2c8ed6ca2 .guide.line{fill:none}#chart-3ada2b2f-a225-4dc9-9ab1-50c2c8ed6ca2 .centered{text-anchor:middle}#chart-3ada2b2f-a225-4dc9-9ab1-50c2c8ed6ca2 .title{text-anchor:middle}#chart-3ada2b2f-a225-4dc9-9ab1-50c2c8ed6ca2 .legends .legend text{fill-opacity:1}#chart-3ada2b2f-a225-4dc9-9ab1-50c2c8ed6ca2 .axis.x text{text-anchor:middle}#chart-3ada2b2f-a225-4dc9-9ab1-50c2c8ed6ca2 .axis.x:not(.web) text[transform]{text-anchor:start}#chart-3ada2b2f-a225-4dc9-9ab1-50c2c8ed6ca2 .axis.x:not(.web) text[transform].backwards{text-anchor:end}#chart-3ada2b2f-a225-4dc9-9ab1-50c2c8ed6ca2 .axis.y text{text-anchor:end}#chart-3ada2b2f-a225-4dc9-9ab1-50c2c8ed6ca2 .axis.y text[transform].backwards{text-anchor:start}#chart-3ada2b2f-a225-4dc9-9ab1-50c2c8ed6ca2 .axis.y2 text{text-anchor:start}#chart-3ada2b2f-a225-4dc9-9ab1-50c2c8ed6ca2 .axis.y2 text[transform].backwards{text-anchor:end}#chart-3ada2b2f-a225-4dc9-9ab1-50c2c8ed6ca2 .axis .guide.line{stroke-dasharray:4,4}#chart-3ada2b2f-a225-4dc9-9ab1-50c2c8ed6ca2 .axis .major.guide.line{stroke-dasharray:6,6}#chart-3ada2b2f-a225-4dc9-9ab1-50c2c8ed6ca2 .horizontal .axis.y .guide.line,#chart-3ada2b2f-a225-4dc9-9ab1-50c2c8ed6ca2 .horizontal .axis.y2 .guide.line,#chart-3ada2b2f-a225-4dc9-9ab1-50c2c8ed6ca2 .vertical .axis.x .guide.line{opacity:0}#chart-3ada2b2f-a225-4dc9-9ab1-50c2c8ed6ca2 .horizontal .axis.always_show .guide.line,#chart-3ada2b2f-a225-4dc9-9ab1-50c2c8ed6ca2 .vertical .axis.always_show .guide.line{opacity:1 !important}#chart-3ada2b2f-a225-4dc9-9ab1-50c2c8ed6ca2 .axis.y .guides:hover .guide.line,#chart-3ada2b2f-a225-4dc9-9ab1-50c2c8ed6ca2 .axis.y2 .guides:hover .guide.line,#chart-3ada2b2f-a225-4dc9-9ab1-50c2c8ed6ca2 .axis.x .guides:hover .guide.line{opacity:1}#chart-3ada2b2f-a225-4dc9-9ab1-50c2c8ed6ca2 .axis .guides:hover text{opacity:1}#chart-3ada2b2f-a225-4dc9-9ab1-50c2c8ed6ca2 .nofill{fill:none}#chart-3ada2b2f-a225-4dc9-9ab1-50c2c8ed6ca2 .subtle-fill{fill-opacity:.2}#chart-3ada2b2f-a225-4dc9-9ab1-50c2c8ed6ca2 .dot{stroke-width:1px;fill-opacity:1}#chart-3ada2b2f-a225-4dc9-9ab1-50c2c8ed6ca2 .dot.active{stroke-width:5px}#chart-3ada2b2f-a225-4dc9-9ab1-50c2c8ed6ca2 .dot.negative{fill:transparent}#chart-3ada2b2f-a225-4dc9-9ab1-50c2c8ed6ca2 text,#chart-3ada2b2f-a225-4dc9-9ab1-50c2c8ed6ca2 tspan{stroke:none !important}#chart-3ada2b2f-a225-4dc9-9ab1-50c2c8ed6ca2 .series text.active{opacity:1}#chart-3ada2b2f-a225-4dc9-9ab1-50c2c8ed6ca2 .tooltip rect{fill-opacity:.95;stroke-width:.5}#chart-3ada2b2f-a225-4dc9-9ab1-50c2c8ed6ca2 .tooltip text{fill-opacity:1}#chart-3ada2b2f-a225-4dc9-9ab1-50c2c8ed6ca2 .showable{visibility:hidden}#chart-3ada2b2f-a225-4dc9-9ab1-50c2c8ed6ca2 .showable.shown{visibility:visible}#chart-3ada2b2f-a225-4dc9-9ab1-50c2c8ed6ca2 .gauge-background{fill:rgba(229,229,229,1);stroke:none}#chart-3ada2b2f-a225-4dc9-9ab1-50c2c8ed6ca2 .bg-lines{stroke:black;stroke-width:2px}</style><script type=\"text/javascript\">window.pygal = window.pygal || {};window.pygal.config = window.pygal.config || {};window.pygal.config['3ada2b2f-a225-4dc9-9ab1-50c2c8ed6ca2'] = {\"allow_interruptions\": false, \"box_mode\": \"extremes\", \"classes\": [\"pygal-chart\"], \"css\": [\"file://style.css\", \"file://graph.css\"], \"defs\": [], \"disable_xml_declaration\": false, \"dots_size\": 2.5, \"dynamic_print_values\": false, \"explicit_size\": false, \"fill\": false, \"force_uri_protocol\": \"https\", \"formatter\": null, \"half_pie\": false, \"height\": 600, \"include_x_axis\": false, \"inner_radius\": 0, \"interpolate\": null, \"interpolation_parameters\": {}, \"interpolation_precision\": 250, \"inverse_y_axis\": false, \"js\": [\"//kozea.github.io/pygal.js/2.0.x/pygal-tooltips.min.js\"], \"legend_at_bottom\": false, \"legend_at_bottom_columns\": null, \"legend_box_size\": 12, \"logarithmic\": false, \"margin\": 20, \"margin_bottom\": null, \"margin_left\": null, \"margin_right\": null, \"margin_top\": null, \"max_scale\": 16, \"min_scale\": 4, \"missing_value_fill_truncation\": \"x\", \"no_data_text\": \"No data\", \"no_prefix\": false, \"order_min\": null, \"pretty_print\": false, \"print_labels\": false, \"print_values\": false, \"print_values_position\": \"center\", \"print_zeroes\": true, \"range\": null, \"rounded_bars\": null, \"secondary_range\": null, \"show_dots\": true, \"show_legend\": true, \"show_minor_x_labels\": true, \"show_minor_y_labels\": true, \"show_only_major_dots\": false, \"show_x_guides\": false, \"show_x_labels\": true, \"show_y_guides\": true, \"show_y_labels\": true, \"spacing\": 10, \"stack_from_top\": false, \"strict\": false, \"stroke\": true, \"stroke_style\": null, \"style\": {\"background\": \"black\", \"ci_colors\": [], \"colors\": [\"#ff5995\", \"#b6e354\", \"#feed6c\", \"#8cedff\", \"#9e6ffe\", \"#899ca1\", \"#f8f8f2\", \"#bf4646\", \"#516083\", \"#f92672\", \"#82b414\", \"#fd971f\", \"#56c2d6\", \"#808384\", \"#8c54fe\", \"#465457\"], \"font_family\": \"Consolas, \\\"Liberation Mono\\\", Menlo, Courier, monospace\", \"foreground\": \"#999\", \"foreground_strong\": \"#eee\", \"foreground_subtle\": \"#555\", \"guide_stroke_dasharray\": \"4,4\", \"label_font_family\": \"Consolas, \\\"Liberation Mono\\\", Menlo, Courier, monospace\", \"label_font_size\": 10, \"legend_font_family\": \"Consolas, \\\"Liberation Mono\\\", Menlo, Courier, monospace\", \"legend_font_size\": 14, \"major_guide_stroke_dasharray\": \"6,6\", \"major_label_font_family\": \"Consolas, \\\"Liberation Mono\\\", Menlo, Courier, monospace\", \"major_label_font_size\": 10, \"no_data_font_family\": \"Consolas, \\\"Liberation Mono\\\", Menlo, Courier, monospace\", \"no_data_font_size\": 64, \"opacity\": \".1\", \"opacity_hover\": \".75\", \"plot_background\": \"#111\", \"stroke_opacity\": \".8\", \"stroke_opacity_hover\": \".9\", \"title_font_family\": \"Consolas, \\\"Liberation Mono\\\", Menlo, Courier, monospace\", \"title_font_size\": 16, \"tooltip_font_family\": \"Consolas, \\\"Liberation Mono\\\", Menlo, Courier, monospace\", \"tooltip_font_size\": 14, \"transition\": \"1s ease-out\", \"value_background\": \"rgba(229, 229, 229, 1)\", \"value_colors\": [], \"value_font_family\": \"Consolas, \\\"Liberation Mono\\\", Menlo, Courier, monospace\", \"value_font_size\": 16, \"value_label_font_family\": \"Consolas, \\\"Liberation Mono\\\", Menlo, Courier, monospace\", \"value_label_font_size\": 10}, \"title\": \"Confusion Matrix\", \"tooltip_border_radius\": 0, \"tooltip_fancy_mode\": true, \"truncate_label\": null, \"truncate_legend\": null, \"width\": 800, \"x_label_rotation\": 30, \"x_labels\": [\"0\", \"1\"], \"x_labels_major\": null, \"x_labels_major_count\": null, \"x_labels_major_every\": null, \"x_title\": \"Predicted - Precision 0.2047244094488189\", \"xrange\": null, \"y_label_rotation\": 0, \"y_labels\": null, \"y_labels_major\": null, \"y_labels_major_count\": null, \"y_labels_major_every\": null, \"y_title\": \"Actual - Recall 0.06175771971496437\", \"zero\": 0, \"legends\": [\"0\", \"1\"]}</script><script type=\"text/javascript\" xlink:href=\"https://kozea.github.io/pygal.js/2.0.x/pygal-tooltips.min.js\"/></defs><title>Confusion Matrix</title><g class=\"graph dot-graph vertical\"><rect class=\"background\" height=\"600\" width=\"800\" x=\"0\" y=\"0\"/><g class=\"plot\" transform=\"translate(96, 46)\"><rect class=\"background\" height=\"488\" width=\"683.6\" x=\"0\" y=\"0\"/><g class=\"axis y always_show\"><path class=\"line\" d=\"M0.000000 488.000000 h683.600000\"/><g class=\"guides\"><path class=\"axis guide line\" d=\"M0.000000 126.692308 h683.600000\"/><text class=\"\" x=\"-5\" y=\"130.19230769230774\">0</text><title>1.5</title></g><g class=\"guides\"><path class=\"guide line\" d=\"M0.000000 361.307692 h683.600000\"/><text class=\"\" x=\"-5\" y=\"364.80769230769226\">1</text><title>0.5</title></g></g><g class=\"axis x\"><path class=\"line\" d=\"M0.000000 0.000000 v488.000000\"/><g class=\"guides\"><path class=\"axis guide line\" d=\"M177.473077 0.000000 v488.000000\"/><text class=\"\" x=\"177.47307692307695\" y=\"503.0\" transform=\"rotate(30 177.473077 503.000000)\">0</text></g><g class=\"guides\"><path class=\"guide line\" d=\"M506.126923 0.000000 v488.000000\"/><text class=\"\" x=\"506.1269230769231\" y=\"503.0\" transform=\"rotate(30 506.126923 503.000000)\">1</text></g></g><g class=\"series serie-0 color-0\"><g class=\"dots\"><circle class=\"dot reactive tooltip-trigger\" cx=\"177.47307692307695\" cy=\"126.69230769230774\" r=\"111.72161172161172\"/><desc class=\"value\">2378</desc><desc class=\"x centered\">177.47307692307695</desc><desc class=\"y centered\">126.69230769230774</desc><desc class=\"x_label\">0</desc></g><g class=\"dots\"><circle class=\"dot reactive tooltip-trigger\" cx=\"506.1269230769231\" cy=\"126.69230769230774\" r=\"4.745114711472996\"/><desc class=\"value\">101</desc><desc class=\"x centered\">506.1269230769231</desc><desc class=\"y centered\">126.69230769230774</desc><desc class=\"x_label\">1</desc></g></g><g class=\"series serie-1 color-1\"><g class=\"dots\"><circle class=\"dot reactive tooltip-trigger\" cx=\"177.47307692307695\" cy=\"361.30769230769226\" r=\"18.557626841899342\"/><desc class=\"value\">395</desc><desc class=\"x centered\">177.47307692307695</desc><desc class=\"y centered\">361.30769230769226</desc><desc class=\"x_label\">0</desc></g><g class=\"dots\"><circle class=\"dot reactive tooltip-trigger\" cx=\"506.1269230769231\" cy=\"361.30769230769226\" r=\"1.2215146782009692\"/><desc class=\"value\">26</desc><desc class=\"x centered\">506.1269230769231</desc><desc class=\"y centered\">361.30769230769226</desc><desc class=\"x_label\">1</desc></g></g></g><g class=\"titles\"><text class=\"title plot_title\" x=\"400.0\" y=\"26\">Confusion Matrix</text><text class=\"title\" x=\"438.20000000000005\" y=\"580\">Predicted - Precision 0.2047244094488189</text><text class=\"title\" x=\"30.4\" y=\"316.0\" transform=\"rotate(-90 30.400000 290.000000)\">Actual - Recall 0.06175771971496437</text></g><g class=\"plot overlay\" transform=\"translate(96, 46)\"><g class=\"series serie-0 color-0\"/><g class=\"series serie-1 color-1\"/></g><g class=\"plot text-overlay\" transform=\"translate(96, 46)\"><g class=\"series serie-0 color-0\"/><g class=\"series serie-1 color-1\"/></g><g class=\"plot tooltip-overlay\" transform=\"translate(96, 46)\"><g class=\"tooltip\" style=\"opacity: 0\" transform=\"translate(0 0)\"><rect class=\"tooltip-box\" height=\"0\" rx=\"0\" ry=\"0\" width=\"0\"/><g class=\"text\"/></g></g><g class=\"legends\" transform=\"translate(10, 56)\"><g class=\"legend reactive activate-serie\" id=\"activate-serie-0\"><rect class=\"color-0 reactive\" height=\"12\" width=\"12\" x=\"0.0\" y=\"1.0\"/><text x=\"17.0\" y=\"11.2\">0</text></g><g class=\"legend reactive activate-serie\" id=\"activate-serie-1\"><rect class=\"color-1 reactive\" height=\"12\" width=\"12\" x=\"0.0\" y=\"22.0\"/><text x=\"17.0\" y=\"32.2\">1</text></g></g><g class=\"legends\" transform=\"translate(790, 56)\"/></g></svg>\n",
              "    </figure>\n",
              "  </body>\n",
              "</html>\n"
            ],
            "text/plain": [
              "<IPython.core.display.HTML object>"
            ]
          },
          "metadata": {
            "tags": []
          }
        }
      ]
    },
    {
      "cell_type": "markdown",
      "metadata": {
        "id": "y2JRNTiMmlDa"
      },
      "source": [
        "# Calculate Metrics\n",
        "Print the F1, F beta, precision, recall and accuracy scores."
      ]
    },
    {
      "cell_type": "code",
      "metadata": {
        "id": "1zXGeX1zmt9g"
      },
      "source": [
        "def CalculateMetrics(y_test, predictions):\n",
        "  return {'accuracy': accuracy_score(y_test, predictions),\n",
        "   'precision': precision_score(y_test, predictions),\n",
        "   'recall': recall_score(y_test, predictions),\n",
        "   'f1': f1_score(y_test, predictions),\n",
        "   'fbeta_precision' : fbeta_score(y_test, predictions, 0.5),\n",
        "    'fbeta_recall' : fbeta_score(y_test, predictions, 2)}\n",
        "\n",
        "CalculateMetrics(y_test, predictions)"
      ],
      "execution_count": null,
      "outputs": []
    },
    {
      "cell_type": "markdown",
      "metadata": {
        "id": "jvXbScifmuZw"
      },
      "source": [
        "# Print a classification report"
      ]
    },
    {
      "cell_type": "code",
      "metadata": {
        "id": "EUITZq1pmyVq"
      },
      "source": [
        "report = classification_report(y_test, predictions, target_names=['Positive', 'Negative'])\n",
        "print(report)"
      ],
      "execution_count": null,
      "outputs": []
    },
    {
      "cell_type": "markdown",
      "metadata": {
        "id": "BaQivINtmyrQ"
      },
      "source": [
        "# Plot ROC Curve and AUC\n",
        "Caculate AUC and plot the curve."
      ]
    },
    {
      "cell_type": "code",
      "metadata": {
        "id": "J2B8YeWkm238"
      },
      "source": [
        "from sklearn.metrics import roc_curve, precision_recall_curve, roc_auc_score\n",
        "probs = lr.predict_proba(X_test)[:, 1]\n",
        "fpr, tpr, thresholds = roc_curve(y_test, probs)\n",
        "auc = roc_auc_score(y_test, probs)\n",
        "print('Area under the ROC curve: {:.3f}'.format(auc))\n",
        "\n",
        "fig = plt.figure(figsize = (6, 6))\n",
        "plt.plot([0, 1], [0, 1], 'k--')\n",
        "plt.plot(fpr, tpr)\n",
        "plt.fill(fpr, tpr, 'grey', alpha=0.3)\n",
        "plt.xlabel('False Positive Rate')\n",
        "plt.ylabel('True Positive Rate')\n",
        "plt.title('ROC curve for Logistic Regression Model')\n",
        "plt.show()"
      ],
      "execution_count": null,
      "outputs": []
    },
    {
      "cell_type": "markdown",
      "metadata": {
        "id": "-XhwRkBbm3N7"
      },
      "source": [
        "# Plot Precision-Recall Curve\n",
        "Plot the precision-recall curve for the model above.\n",
        "\n",
        "Find the best value for C in the Logistic Regression Classifier for avoiding overfitting. Plot the training and testing accuracy over a range of C values from 0.05 to 1.5."
      ]
    },
    {
      "cell_type": "code",
      "metadata": {
        "id": "a8E0vBTgm7TL"
      },
      "source": [
        "pres, rec, thresholds = precision_recall_curve(y_test, predictions)\n",
        "fig = plt.figure(figsize = (6, 6))\n",
        "plt.plot(rec, pres)\n",
        "plt.xlabel('Recall')\n",
        "plt.ylabel('Precision')\n",
        "plt.title('Precision-Recall Curve')\n",
        "plt.show()"
      ],
      "execution_count": null,
      "outputs": []
    },
    {
      "cell_type": "code",
      "metadata": {
        "id": "cItTgAG0CyyI"
      },
      "source": [
        "c_vals = np.arange(0.05, 1.5, 0.05)\n",
        "test_accuracy = []\n",
        "train_accuracy = []\n",
        "\n",
        "for c in c_vals:\n",
        "  lr = LogisticRegression(solver='lbfgs', penalty='l2', C=c, max_iter=10000, random_state=2)\n",
        "  lr.fit(X_train, y_train)\n",
        "  test_accuracy.append(lr.score(X_test, y_test))\n",
        "  train_accuracy.append(lr.score(X_train, y_train))\n",
        "\n",
        "fig = plt.figure(figsize=(8, 4))\n",
        "ax1 = fig.add_subplot(1, 1, 1)\n",
        "ax1.plot(c_vals, test_accuracy, '-g', label='Test Accuracy')\n",
        "ax1.plot(c_vals, train_accuracy, '-b', label='Train Accuracy')\n",
        "ax1.set(xlabel='C', ylabel='Accuracy')\n",
        "ax1.set_title('Effect of C on Accuracy')\n",
        "ax1.legend()\n",
        "plt.show()"
      ],
      "execution_count": null,
      "outputs": []
    },
    {
      "cell_type": "markdown",
      "metadata": {
        "id": "E9hTldLnRxRn"
      },
      "source": [
        "The distance seems about the same no matter what value of C I choose. I'll go with 0.2. "
      ]
    },
    {
      "cell_type": "code",
      "metadata": {
        "id": "-FjzrZm-cJii"
      },
      "source": [
        "c = 0.2\n",
        "#Increasing the number of iterations did not resolve the issue. \n",
        "lr = LogisticRegression(solver='lbfgs', penalty='l2', max_iter=10000, C=c, random_state=2)\n",
        "lr.fit(X_train, y_train)\n",
        "\n",
        "test_score = lr.score(X_test, y_test)\n",
        "train_score = lr.score(X_train, y_train)\n",
        "\n",
        "print('Score on training data: ', train_score)\n",
        "print('Score on test data: ', test_score)"
      ],
      "execution_count": null,
      "outputs": []
    },
    {
      "cell_type": "markdown",
      "metadata": {
        "id": "UyIfjMK8m7tj"
      },
      "source": [
        "# Cross Validation\n",
        "Perform 5-fold cross validation for a Logistic Regression Classifier. Print the 5 accuracy scores and the mean validation score."
      ]
    },
    {
      "cell_type": "code",
      "metadata": {
        "id": "0faBgLkJnANV"
      },
      "source": [
        "from sklearn.model_selection import train_test_split, cross_val_score\n",
        "\n",
        "clf = LogisticRegression(solver='lbfgs', max_iter=1000)\n",
        "cv_scores = cross_val_score(clf, X_train, y_train, cv = 5)\n",
        "\n",
        "print('Accuracy scores for the 5 folds: ', cv_scores)\n",
        "print('Mean cross validation score: {:.3f}'.format(np.mean(cv_scores)))"
      ],
      "execution_count": null,
      "outputs": []
    },
    {
      "cell_type": "markdown",
      "metadata": {
        "id": "sS7ne_HznAij"
      },
      "source": [
        "# Is this really linear?\n",
        "Our linear classifier is not giving us accuracy better than the dummy classifier. Suppose that the data was not linearly separable? Instantiate and train a KNN model with k = 7. How does the accuracy of the KNN model compare to the Logistic Regression from above? What does that tell you about the data?"
      ]
    },
    {
      "cell_type": "code",
      "metadata": {
        "id": "pnZccfKdnElH"
      },
      "source": [
        "\n",
        "knn = KNeighborsClassifier(n_neighbors=7)\n",
        "\n",
        "# Then  fit the model\n",
        "knn.fit(X_train, y_train)\n",
        "\n",
        "# How well did we do\n",
        "knn_7_score = knn.score(X_test, y_test)\n",
        "\n",
        "print('Accuracy of KNN (k = 7): {:.3f}'.format(knn_7_score))"
      ],
      "execution_count": null,
      "outputs": []
    },
    {
      "cell_type": "markdown",
      "metadata": {
        "id": "Mk4rP5pSnE-J"
      },
      "source": [
        "# Random Forest\n",
        "Instantiate and fit a RandomForestClassifier and calculate the accuracy of that model."
      ]
    },
    {
      "cell_type": "code",
      "metadata": {
        "id": "lSuqSHfEnPl-"
      },
      "source": [
        " \n",
        "rf = RandomForestClassifier(n_estimators = 22, random_state = 40)\n",
        "\n",
        "rf.fit(X_train,y_train)\n",
        "\n",
        "rf_score = rf.score(X_test, y_test)\n",
        "\n",
        "print('Accuracy of Random Forest: {:.3f}'.format(rf_score))"
      ],
      "execution_count": null,
      "outputs": []
    }
  ]
}